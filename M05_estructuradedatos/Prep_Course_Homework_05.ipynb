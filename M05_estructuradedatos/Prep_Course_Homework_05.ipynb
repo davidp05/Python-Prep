{
 "cells": [
  {
   "attachments": {},
   "cell_type": "markdown",
   "metadata": {},
   "source": [
    "## Estructuras de Datos"
   ]
  },
  {
   "attachments": {},
   "cell_type": "markdown",
   "metadata": {},
   "source": [
    "1) Crear una lista que contenga nombres de ciudades del mundo que contenga más de 5 elementos e imprimir por pantalla"
   ]
  },
  {
   "cell_type": "code",
   "execution_count": 9,
   "metadata": {},
   "outputs": [
    {
     "name": "stdout",
     "output_type": "stream",
     "text": [
      "['Rafaela', 'Sunchales', 'Esperanza', 'Santa Fe', 'Crespo', 'Susana', 'Morteros', 'San Francisco']\n",
      "<class 'list'>\n"
     ]
    }
   ],
   "source": [
    "ciudades = ['Rafaela', 'Sunchales', 'Esperanza', 'Santa Fe', 'Crespo', 'Susana', 'Morteros', 'San Francisco']\n",
    "print(ciudades)\n",
    "print(type(ciudades))"
   ]
  },
  {
   "attachments": {},
   "cell_type": "markdown",
   "metadata": {},
   "source": [
    "2) Imprimir por pantalla el segundo elemento de la lista"
   ]
  },
  {
   "cell_type": "code",
   "execution_count": 6,
   "metadata": {},
   "outputs": [
    {
     "name": "stdout",
     "output_type": "stream",
     "text": [
      "Sunchales\n"
     ]
    }
   ],
   "source": [
    "print(ciudades[1])"
   ]
  },
  {
   "attachments": {},
   "cell_type": "markdown",
   "metadata": {},
   "source": [
    "3) Imprimir por pantalla del segundo al cuarto elemento"
   ]
  },
  {
   "cell_type": "code",
   "execution_count": 7,
   "metadata": {},
   "outputs": [
    {
     "name": "stdout",
     "output_type": "stream",
     "text": [
      "['Esperanza', 'Santa Fe']\n"
     ]
    }
   ],
   "source": [
    "print(ciudades[2:4])"
   ]
  },
  {
   "attachments": {},
   "cell_type": "markdown",
   "metadata": {},
   "source": [
    "4) Visualizar el tipo de dato de la lista"
   ]
  },
  {
   "cell_type": "code",
   "execution_count": 8,
   "metadata": {},
   "outputs": [
    {
     "name": "stdout",
     "output_type": "stream",
     "text": [
      "<class 'list'>\n"
     ]
    }
   ],
   "source": [
    "print(type(ciudades))"
   ]
  },
  {
   "attachments": {},
   "cell_type": "markdown",
   "metadata": {},
   "source": [
    "5) Visualizar todos los elementos de la lista a partir del tercero de manera genérica, es decir, sin explicitar la posición del último elemento"
   ]
  },
  {
   "cell_type": "code",
   "execution_count": 11,
   "metadata": {},
   "outputs": [
    {
     "name": "stdout",
     "output_type": "stream",
     "text": [
      "['Esperanza', 'Santa Fe', 'Crespo', 'Susana', 'Morteros', 'San Francisco']\n"
     ]
    }
   ],
   "source": [
    "print(ciudades[2:])"
   ]
  },
  {
   "attachments": {},
   "cell_type": "markdown",
   "metadata": {},
   "source": [
    "6) Visualizar los primeros 4 elementos de la lista"
   ]
  },
  {
   "cell_type": "code",
   "execution_count": 12,
   "metadata": {},
   "outputs": [
    {
     "name": "stdout",
     "output_type": "stream",
     "text": [
      "['Rafaela', 'Sunchales', 'Esperanza', 'Santa Fe']\n"
     ]
    }
   ],
   "source": [
    "print(ciudades[:4])"
   ]
  },
  {
   "attachments": {},
   "cell_type": "markdown",
   "metadata": {},
   "source": [
    "7) Agregar una ciudad más a la lista que ya exista y otra que no ¿Arroja algún tipo de error?"
   ]
  },
  {
   "cell_type": "code",
   "execution_count": 18,
   "metadata": {},
   "outputs": [],
   "source": [
    "ciudades.append('Rafaela')\n",
    "ciudades.append('Mendoza')"
   ]
  },
  {
   "attachments": {},
   "cell_type": "markdown",
   "metadata": {},
   "source": [
    "8) Agregar otra ciudad, pero en la cuarta posición"
   ]
  },
  {
   "cell_type": "code",
   "execution_count": 19,
   "metadata": {},
   "outputs": [
    {
     "name": "stdout",
     "output_type": "stream",
     "text": [
      "['Rafaela', 'Sunchales', 'Esperanza', 'San Guillermo', 'San Guillermo', 'San Guillermo', 'Santa Fe', 'Crespo', 'Susana', 'Morteros', 'San Francisco', 'Rafaela', 'Rafaela', 'Mendoza']\n"
     ]
    }
   ],
   "source": [
    "ciudades.insert(3, 'San Guillermo')\n",
    "print(ciudades)"
   ]
  },
  {
   "attachments": {},
   "cell_type": "markdown",
   "metadata": {},
   "source": [
    "9) Concatenar otra lista a la ya creada"
   ]
  },
  {
   "cell_type": "code",
   "execution_count": 16,
   "metadata": {},
   "outputs": [
    {
     "name": "stdout",
     "output_type": "stream",
     "text": [
      "['Rafaela', 'Sunchales', 'Esperanza', 'San Guillermo', 'San Guillermo', 'Santa Fe', 'Crespo', 'Susana', 'Morteros', 'San Francisco', 'Susana', 'Roca', 'Mendoza']\n"
     ]
    }
   ],
   "source": [
    "ciudades2 = ['Susana', 'Roca', 'Mendoza']\n",
    "lista_final = ciudades + ciudades2\n",
    "print(lista_final)"
   ]
  },
  {
   "attachments": {},
   "cell_type": "markdown",
   "metadata": {},
   "source": [
    "10) Encontrar el índice de la ciudad que en el punto 7 agregamos duplicada. ¿Se nota alguna particularidad?"
   ]
  },
  {
   "cell_type": "code",
   "execution_count": 23,
   "metadata": {},
   "outputs": [
    {
     "name": "stdout",
     "output_type": "stream",
     "text": [
      "0\n"
     ]
    }
   ],
   "source": [
    "print(ciudades.index('Rafaela'))"
   ]
  },
  {
   "attachments": {},
   "cell_type": "markdown",
   "metadata": {},
   "source": [
    "11) ¿Qué pasa si se busca un elemento que no existe?"
   ]
  },
  {
   "cell_type": "code",
   "execution_count": 25,
   "metadata": {},
   "outputs": [
    {
     "ename": "ValueError",
     "evalue": "'Portugal' is not in list",
     "output_type": "error",
     "traceback": [
      "\u001b[1;31m---------------------------------------------------------------------------\u001b[0m",
      "\u001b[1;31mValueError\u001b[0m                                Traceback (most recent call last)",
      "Cell \u001b[1;32mIn[25], line 1\u001b[0m\n\u001b[1;32m----> 1\u001b[0m ciudades\u001b[39m.\u001b[39;49mindex(\u001b[39m'\u001b[39;49m\u001b[39mPortugal\u001b[39;49m\u001b[39m'\u001b[39;49m)\n",
      "\u001b[1;31mValueError\u001b[0m: 'Portugal' is not in list"
     ]
    }
   ],
   "source": [
    "ciudades.index('Portugal')"
   ]
  },
  {
   "attachments": {},
   "cell_type": "markdown",
   "metadata": {},
   "source": [
    "12) Eliminar un elemento de la lista"
   ]
  },
  {
   "cell_type": "code",
   "execution_count": 27,
   "metadata": {},
   "outputs": [
    {
     "name": "stdout",
     "output_type": "stream",
     "text": [
      "['Sunchales', 'Esperanza', 'San Guillermo', 'San Guillermo', 'San Guillermo', 'Santa Fe', 'Crespo', 'Susana', 'Morteros', 'San Francisco', 'Rafaela', 'Mendoza']\n"
     ]
    }
   ],
   "source": [
    "ciudades.remove('Rafaela')\n",
    "print(ciudades)"
   ]
  },
  {
   "attachments": {},
   "cell_type": "markdown",
   "metadata": {},
   "source": [
    "13) ¿Qué pasa si el elemento a eliminar no existe?"
   ]
  },
  {
   "cell_type": "code",
   "execution_count": 28,
   "metadata": {},
   "outputs": [
    {
     "ename": "ValueError",
     "evalue": "list.remove(x): x not in list",
     "output_type": "error",
     "traceback": [
      "\u001b[1;31m---------------------------------------------------------------------------\u001b[0m",
      "\u001b[1;31mValueError\u001b[0m                                Traceback (most recent call last)",
      "Cell \u001b[1;32mIn[28], line 1\u001b[0m\n\u001b[1;32m----> 1\u001b[0m ciudades\u001b[39m.\u001b[39;49mremove(\u001b[39m'\u001b[39;49m\u001b[39mPortugal\u001b[39;49m\u001b[39m'\u001b[39;49m)\n",
      "\u001b[1;31mValueError\u001b[0m: list.remove(x): x not in list"
     ]
    }
   ],
   "source": [
    "ciudades.remove('Portugal')"
   ]
  },
  {
   "attachments": {},
   "cell_type": "markdown",
   "metadata": {},
   "source": [
    "14) Extraer el úlimo elemento de la lista, guardarlo en una variable e imprimirlo"
   ]
  },
  {
   "cell_type": "code",
   "execution_count": 29,
   "metadata": {},
   "outputs": [
    {
     "name": "stdout",
     "output_type": "stream",
     "text": [
      "Mendoza\n"
     ]
    }
   ],
   "source": [
    "ultimo = ciudades.pop()\n",
    "print(ultimo)"
   ]
  },
  {
   "attachments": {},
   "cell_type": "markdown",
   "metadata": {},
   "source": [
    "15) Mostrar la lista multiplicada por 4"
   ]
  },
  {
   "cell_type": "code",
   "execution_count": 30,
   "metadata": {},
   "outputs": [
    {
     "name": "stdout",
     "output_type": "stream",
     "text": [
      "['Sunchales', 'Esperanza', 'San Guillermo', 'San Guillermo', 'San Guillermo', 'Santa Fe', 'Crespo', 'Susana', 'Morteros', 'San Francisco', 'Rafaela', 'Sunchales', 'Esperanza', 'San Guillermo', 'San Guillermo', 'San Guillermo', 'Santa Fe', 'Crespo', 'Susana', 'Morteros', 'San Francisco', 'Rafaela', 'Sunchales', 'Esperanza', 'San Guillermo', 'San Guillermo', 'San Guillermo', 'Santa Fe', 'Crespo', 'Susana', 'Morteros', 'San Francisco', 'Rafaela', 'Sunchales', 'Esperanza', 'San Guillermo', 'San Guillermo', 'San Guillermo', 'Santa Fe', 'Crespo', 'Susana', 'Morteros', 'San Francisco', 'Rafaela']\n"
     ]
    }
   ],
   "source": [
    "lista_por4 = ciudades * 4\n",
    "print(lista_por4)"
   ]
  },
  {
   "attachments": {},
   "cell_type": "markdown",
   "metadata": {},
   "source": [
    "16) Crear una tupla que contenga los números enteros del 1 al 20"
   ]
  },
  {
   "cell_type": "code",
   "execution_count": 32,
   "metadata": {},
   "outputs": [
    {
     "name": "stdout",
     "output_type": "stream",
     "text": [
      "(1, 2, 3, 4, 5, 6, 7, 8, 9, 10, 11, 12, 13, 14, 15, 16, 17, 18, 19, 20)\n",
      "<class 'tuple'>\n"
     ]
    }
   ],
   "source": [
    "tupla = (1,2,3,4,5,6,7,8,9,10,11,12,13,14,15,16,17,18,19,20)\n",
    "print(tupla)\n",
    "print(type(tupla))"
   ]
  },
  {
   "attachments": {},
   "cell_type": "markdown",
   "metadata": {},
   "source": [
    "17) Imprimir desde el índice 10 al 15 de la tupla"
   ]
  },
  {
   "cell_type": "code",
   "execution_count": 34,
   "metadata": {},
   "outputs": [
    {
     "name": "stdout",
     "output_type": "stream",
     "text": [
      "(11, 12, 13, 14, 15, 16)\n"
     ]
    }
   ],
   "source": [
    "print(tupla[10:16])"
   ]
  },
  {
   "attachments": {},
   "cell_type": "markdown",
   "metadata": {},
   "source": [
    "18) Evaluar si los números 20 y 30 están dentro de la tupla"
   ]
  },
  {
   "cell_type": "code",
   "execution_count": 37,
   "metadata": {},
   "outputs": [
    {
     "name": "stdout",
     "output_type": "stream",
     "text": [
      "True\n",
      "False\n"
     ]
    }
   ],
   "source": [
    "print(20 in tupla)\n",
    "print(30 in tupla)"
   ]
  },
  {
   "attachments": {},
   "cell_type": "markdown",
   "metadata": {},
   "source": [
    "19) Con la lista creada en el punto 1, validar la existencia del elemento 'París' y si no existe, agregarlo. Utilizar una variable e informar lo sucedido."
   ]
  },
  {
   "cell_type": "code",
   "execution_count": 40,
   "metadata": {},
   "outputs": [
    {
     "name": "stdout",
     "output_type": "stream",
     "text": [
      "False\n",
      "['Sunchales', 'Esperanza', 'San Guillermo', 'San Guillermo', 'San Guillermo', 'Santa Fe', 'Crespo', 'Susana', 'Morteros', 'San Francisco', 'Rafaela', 'Paris']\n"
     ]
    }
   ],
   "source": [
    "esta_paris = 'Paris' in ciudades\n",
    "print(esta_paris)\n",
    "\n",
    "if esta_paris == False:\n",
    "    ciudades.append('Paris')\n",
    "    print(ciudades)\n"
   ]
  },
  {
   "attachments": {},
   "cell_type": "markdown",
   "metadata": {},
   "source": [
    "20) Mostrar la cantidad de veces que se encuentra un elemento específico dentro de la tupla y de la lista"
   ]
  },
  {
   "cell_type": "code",
   "execution_count": 43,
   "metadata": {},
   "outputs": [
    {
     "name": "stdout",
     "output_type": "stream",
     "text": [
      "4\n",
      "0\n"
     ]
    }
   ],
   "source": [
    "print(lista_por4.count('Rafaela'))\n",
    "print(tupla.count('1'))"
   ]
  },
  {
   "attachments": {},
   "cell_type": "markdown",
   "metadata": {},
   "source": [
    "21) Convertir la tupla en una lista"
   ]
  },
  {
   "cell_type": "code",
   "execution_count": 44,
   "metadata": {},
   "outputs": [
    {
     "name": "stdout",
     "output_type": "stream",
     "text": [
      "[1, 2, 3, 4, 5, 6, 7, 8, 9, 10, 11, 12, 13, 14, 15, 16, 17, 18, 19, 20]\n",
      "<class 'list'>\n"
     ]
    }
   ],
   "source": [
    "nueva_lista = list(tupla)\n",
    "print(nueva_lista)\n",
    "print(type(nueva_lista))"
   ]
  },
  {
   "attachments": {},
   "cell_type": "markdown",
   "metadata": {},
   "source": [
    "22) Desempaquetar solo los primeros 3 elementos de la tupla en 3 variables"
   ]
  },
  {
   "cell_type": "code",
   "execution_count": 46,
   "metadata": {},
   "outputs": [
    {
     "name": "stdout",
     "output_type": "stream",
     "text": [
      "1 2 3\n"
     ]
    }
   ],
   "source": [
    "var1, var2, var3, _, _, _, _, _, _, _, _, _, _, _, _, _, _, _, _, _, = tupla\n",
    "print(var1, var2, var3)"
   ]
  },
  {
   "attachments": {},
   "cell_type": "markdown",
   "metadata": {},
   "source": [
    "23) Crear un diccionario utilizando la lista crada en el punto 1, asignandole la clave \"ciudad\". Agregar tambien otras claves, como puede ser \"Pais\" y \"Continente\"."
   ]
  },
  {
   "cell_type": "code",
   "execution_count": 50,
   "metadata": {},
   "outputs": [
    {
     "name": "stdout",
     "output_type": "stream",
     "text": [
      "{0: 'Sunchales', 1: 'Esperanza', 2: 'San Guillermo', 3: 'San Guillermo', 4: 'San Guillermo', 5: 'Santa Fe', 6: 'Crespo', 7: 'Susana', 8: 'Morteros', 9: 'San Francisco', 10: 'Rafaela', 11: 'Paris'}\n"
     ]
    }
   ],
   "source": [
    "diccionario = dict(enumerate(ciudades))\n",
    "\n",
    "print(diccionario)"
   ]
  },
  {
   "attachments": {},
   "cell_type": "markdown",
   "metadata": {},
   "source": [
    "24) Imprimir las claves del diccionario"
   ]
  },
  {
   "cell_type": "code",
   "execution_count": 54,
   "metadata": {},
   "outputs": [
    {
     "name": "stdout",
     "output_type": "stream",
     "text": [
      "dict_keys([0, 1, 2, 3, 4, 5, 6, 7, 8, 9, 10, 11])\n",
      "dict_values(['Sunchales', 'Esperanza', 'San Guillermo', 'San Guillermo', 'San Guillermo', 'Santa Fe', 'Crespo', 'Susana', 'Morteros', 'San Francisco', 'Rafaela', 'Paris'])\n"
     ]
    }
   ],
   "source": [
    "print(diccionario.keys())\n",
    "print(diccionario.values())"
   ]
  },
  {
   "attachments": {},
   "cell_type": "markdown",
   "metadata": {},
   "source": [
    "25) Imprimir las ciudades a través de su clave"
   ]
  },
  {
   "cell_type": "code",
   "execution_count": 58,
   "metadata": {},
   "outputs": [
    {
     "name": "stdout",
     "output_type": "stream",
     "text": [
      "San Guillermo\n"
     ]
    }
   ],
   "source": [
    "clave = 2\n",
    "\n",
    "if clave in diccionario:\n",
    "    ciudad = diccionario[clave]\n",
    "    print(ciudad)\n",
    "else:\n",
    "    print(\"La clave no existe en el diccionario.\")\n"
   ]
  },
  {
   "cell_type": "code",
   "execution_count": 59,
   "metadata": {},
   "outputs": [
    {
     "data": {
      "text/plain": [
       "'San Guillermo'"
      ]
     },
     "execution_count": 59,
     "metadata": {},
     "output_type": "execute_result"
    }
   ],
   "source": [
    "diccionario[2]"
   ]
  },
  {
   "cell_type": "code",
   "execution_count": null,
   "metadata": {},
   "outputs": [],
   "source": []
  }
 ],
 "metadata": {
  "interpreter": {
   "hash": "c85384e4cb51c8b72350f3a8712cc8351fdc3955e32a27f9b60c6242ab125f01"
  },
  "kernelspec": {
   "display_name": "Python 3 (ipykernel)",
   "language": "python",
   "name": "python3"
  },
  "language_info": {
   "codemirror_mode": {
    "name": "ipython",
    "version": 3
   },
   "file_extension": ".py",
   "mimetype": "text/x-python",
   "name": "python",
   "nbconvert_exporter": "python",
   "pygments_lexer": "ipython3",
   "version": "3.11.3"
  }
 },
 "nbformat": 4,
 "nbformat_minor": 4
}
