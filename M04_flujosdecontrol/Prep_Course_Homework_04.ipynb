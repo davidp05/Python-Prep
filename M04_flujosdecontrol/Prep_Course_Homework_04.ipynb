{
 "cells": [
  {
   "attachments": {},
   "cell_type": "markdown",
   "metadata": {},
   "source": [
    "## Flujos de Control"
   ]
  },
  {
   "attachments": {},
   "cell_type": "markdown",
   "metadata": {},
   "source": [
    "1) Crear una variable que contenga un elemento del conjunto de números enteros y luego imprimir por pantalla si es mayor o menor a cero"
   ]
  },
  {
   "cell_type": "code",
   "execution_count": 4,
   "metadata": {},
   "outputs": [
    {
     "name": "stdout",
     "output_type": "stream",
     "text": [
      "El 0 es 0\n"
     ]
    }
   ],
   "source": [
    "elemento = 0\n",
    "if elemento > 0:\n",
    "    print(f'El {elemento} es mayor que 0')\n",
    "elif elemento < 0:\n",
    "    print(f'El {elemento} es menor a 0')\n",
    "else:\n",
    "    print(f'El {elemento} es 0')"
   ]
  },
  {
   "attachments": {},
   "cell_type": "markdown",
   "metadata": {},
   "source": [
    "2) Crear dos variables y un condicional que informe si son del mismo tipo de dato"
   ]
  },
  {
   "cell_type": "code",
   "execution_count": 8,
   "metadata": {},
   "outputs": [
    {
     "name": "stdout",
     "output_type": "stream",
     "text": [
      "Las variables son diferentes\n"
     ]
    }
   ],
   "source": [
    "var1 = True\n",
    "var2 = 3\n",
    "\n",
    "if type(var1) == type(var2):\n",
    "    print('Las variables son iguales')\n",
    "else:\n",
    "    print('Las variables son diferentes')\n"
   ]
  },
  {
   "attachments": {},
   "cell_type": "markdown",
   "metadata": {},
   "source": [
    "3) Para los valores enteros del 1 al 20, imprimir por pantalla si es par o impar"
   ]
  },
  {
   "cell_type": "code",
   "execution_count": 3,
   "metadata": {},
   "outputs": [
    {
     "name": "stdout",
     "output_type": "stream",
     "text": [
      "el número 1 es impar\n",
      "el número 2 es par\n",
      "el número 3 es impar\n",
      "el número 4 es par\n",
      "el número 5 es impar\n",
      "el número 6 es par\n",
      "el número 7 es impar\n",
      "el número 8 es par\n",
      "el número 9 es impar\n",
      "el número 10 es par\n",
      "el número 11 es impar\n",
      "el número 12 es par\n",
      "el número 13 es impar\n",
      "el número 14 es par\n",
      "el número 15 es impar\n",
      "el número 16 es par\n",
      "el número 17 es impar\n",
      "el número 18 es par\n",
      "el número 19 es impar\n",
      "el número 20 es par\n"
     ]
    }
   ],
   "source": [
    "for i in range(1,21):\n",
    "    resto = i % 2\n",
    "    if resto == 0:\n",
    "        print(f\"el número {i} es par\")\n",
    "    else:\n",
    "        print(f\"el número {i} es impar\")"
   ]
  },
  {
   "attachments": {},
   "cell_type": "markdown",
   "metadata": {},
   "source": [
    "4) En un ciclo for mostrar para los valores entre 0 y 5 el resultado de elevarlo a la potencia igual a 3"
   ]
  },
  {
   "cell_type": "code",
   "execution_count": 5,
   "metadata": {},
   "outputs": [
    {
     "name": "stdout",
     "output_type": "stream",
     "text": [
      "el valor de 0 elevado a la 3ra potencia es 0\n",
      "el valor de 1 elevado a la 3ra potencia es 1\n",
      "el valor de 2 elevado a la 3ra potencia es 8\n",
      "el valor de 3 elevado a la 3ra potencia es 27\n",
      "el valor de 4 elevado a la 3ra potencia es 64\n"
     ]
    }
   ],
   "source": [
    "for i in range(0, 5):\n",
    "    potencia = i**3\n",
    "    print(f\"el valor de {i} elevado a la 3ra potencia es {potencia}\")\n"
   ]
  },
  {
   "attachments": {},
   "cell_type": "markdown",
   "metadata": {},
   "source": [
    "5) Crear una variable que contenga un número entero y realizar un ciclo for la misma cantidad de ciclos"
   ]
  },
  {
   "cell_type": "code",
   "execution_count": 7,
   "metadata": {},
   "outputs": [
    {
     "name": "stdout",
     "output_type": "stream",
     "text": [
      "Estamos en el numero de ciclo 1\n",
      "Estamos en el numero de ciclo 2\n",
      "Estamos en el numero de ciclo 3\n",
      "Estamos en el numero de ciclo 4\n",
      "Estamos en el numero de ciclo 5\n",
      "Estamos en el numero de ciclo 6\n"
     ]
    }
   ],
   "source": [
    "x = 6\n",
    "for i in range(1, x + 1):\n",
    "    print(f\"Estamos en el numero de ciclo {i}\")"
   ]
  },
  {
   "attachments": {},
   "cell_type": "markdown",
   "metadata": {},
   "source": [
    "6) Utilizar un ciclo while para realizar el factorial de un número guardado en una variable, sólo si la variable contiene un número entero mayor a 0"
   ]
  },
  {
   "cell_type": "code",
   "execution_count": 10,
   "metadata": {},
   "outputs": [
    {
     "name": "stdout",
     "output_type": "stream",
     "text": [
      "120\n"
     ]
    }
   ],
   "source": [
    "numero = 5\n",
    "factorial = 1\n",
    "\n",
    "if type(numero) == int and numero>0:\n",
    "    while numero >= 1:\n",
    "        factorial = numero * factorial\n",
    "        numero -= 1\n",
    "print(factorial)"
   ]
  },
  {
   "attachments": {},
   "cell_type": "markdown",
   "metadata": {},
   "source": [
    "7) Crear un ciclo for dentro de un ciclo while"
   ]
  },
  {
   "cell_type": "code",
   "execution_count": 16,
   "metadata": {},
   "outputs": [
    {
     "name": "stdout",
     "output_type": "stream",
     "text": [
      "ciclo while numero: 1\n",
      "ciclo for numero: 1\n",
      "ciclo while numero: 2\n",
      "ciclo for numero: 1\n",
      "ciclo for numero: 2\n",
      "ciclo while numero: 3\n",
      "ciclo for numero: 1\n",
      "ciclo for numero: 2\n",
      "ciclo for numero: 3\n",
      "ciclo while numero: 4\n",
      "ciclo for numero: 1\n",
      "ciclo for numero: 2\n",
      "ciclo for numero: 3\n",
      "ciclo for numero: 4\n"
     ]
    }
   ],
   "source": [
    "n = 1\n",
    "\n",
    "while n < 5:\n",
    "    print(f'ciclo while numero: {n}')\n",
    "    for i in range(1, n+1):\n",
    "        print(f'ciclo for numero: {i}')\n",
    "    n += 1"
   ]
  },
  {
   "attachments": {},
   "cell_type": "markdown",
   "metadata": {},
   "source": [
    "8) Crear un ciclo while dentro de un ciclo for"
   ]
  },
  {
   "cell_type": "code",
   "execution_count": 18,
   "metadata": {},
   "outputs": [
    {
     "name": "stdout",
     "output_type": "stream",
     "text": [
      "ciclo for: 0\n",
      "ciclo while: 0\n",
      "ciclo while: 1\n",
      "ciclo while: 2\n",
      "ciclo for: 1\n",
      "ciclo while: 0\n",
      "ciclo while: 1\n",
      "ciclo while: 2\n"
     ]
    }
   ],
   "source": [
    "n = 2\n",
    "\n",
    "for i in range(n):\n",
    "    contador = 0\n",
    "    limite = 3\n",
    "    print(f'ciclo for: {i}')\n",
    "    while contador < limite:\n",
    "        print(f'ciclo while: {contador}')\n",
    "        contador += 1"
   ]
  },
  {
   "attachments": {},
   "cell_type": "markdown",
   "metadata": {},
   "source": [
    "9) Imprimir los números primos existentes entre 0 y 30"
   ]
  },
  {
   "cell_type": "code",
   "execution_count": 19,
   "metadata": {},
   "outputs": [
    {
     "name": "stdout",
     "output_type": "stream",
     "text": [
      "2\n",
      "3\n",
      "5\n",
      "7\n",
      "11\n",
      "13\n",
      "17\n",
      "19\n",
      "23\n",
      "29\n"
     ]
    }
   ],
   "source": [
    "tope = 30\n",
    "n = 2\n",
    "primo = True\n",
    "\n",
    "while n <= tope:\n",
    "    for div in range(2, n):\n",
    "        resto = n % div\n",
    "        if resto == 0:\n",
    "            primo = False\n",
    "    if primo:\n",
    "        print(n)\n",
    "    else:\n",
    "        primo = True\n",
    "    n += 1"
   ]
  },
  {
   "attachments": {},
   "cell_type": "markdown",
   "metadata": {},
   "source": [
    "10) ¿Se puede mejorar el proceso del punto 9? Utilizar las sentencias break y/ó continue para tal fin"
   ]
  },
  {
   "cell_type": "code",
   "execution_count": 20,
   "metadata": {},
   "outputs": [
    {
     "name": "stdout",
     "output_type": "stream",
     "text": [
      "2\n",
      "3\n",
      "5\n",
      "7\n",
      "11\n",
      "13\n",
      "17\n",
      "19\n",
      "23\n",
      "29\n"
     ]
    }
   ],
   "source": [
    "tope = 30\n",
    "n = 2\n",
    "primo = True\n",
    "\n",
    "while n <= tope:\n",
    "    for div in range(2, n):\n",
    "        resto = n % div\n",
    "        if resto == 0:\n",
    "            primo = False\n",
    "            break\n",
    "    if primo:\n",
    "        print(n)\n",
    "    else:\n",
    "        primo = True\n",
    "    n += 1"
   ]
  },
  {
   "attachments": {},
   "cell_type": "markdown",
   "metadata": {},
   "source": [
    "11) En los puntos 9 y 10, se diseño un código que encuentra números primos y además se lo optimizó. ¿Es posible saber en qué medida se optimizó?"
   ]
  },
  {
   "cell_type": "code",
   "execution_count": null,
   "metadata": {},
   "outputs": [],
   "source": []
  },
  {
   "attachments": {},
   "cell_type": "markdown",
   "metadata": {},
   "source": [
    "12) Si la cantidad de números que se evalúa es mayor a treinta, esa optimización crece?"
   ]
  },
  {
   "cell_type": "code",
   "execution_count": null,
   "metadata": {},
   "outputs": [],
   "source": []
  },
  {
   "attachments": {},
   "cell_type": "markdown",
   "metadata": {},
   "source": [
    "13) Aplicando continue, armar un ciclo while que solo imprima los valores divisibles por 12, dentro del rango de números de 100 a 300"
   ]
  },
  {
   "cell_type": "code",
   "execution_count": 21,
   "metadata": {},
   "outputs": [
    {
     "name": "stdout",
     "output_type": "stream",
     "text": [
      "109 es divisible por 12\n",
      "121 es divisible por 12\n",
      "133 es divisible por 12\n",
      "145 es divisible por 12\n",
      "157 es divisible por 12\n",
      "169 es divisible por 12\n",
      "181 es divisible por 12\n",
      "193 es divisible por 12\n",
      "205 es divisible por 12\n",
      "217 es divisible por 12\n",
      "229 es divisible por 12\n",
      "241 es divisible por 12\n",
      "253 es divisible por 12\n",
      "265 es divisible por 12\n",
      "277 es divisible por 12\n",
      "289 es divisible por 12\n",
      "301 es divisible por 12\n"
     ]
    }
   ],
   "source": [
    "n = 100\n",
    "while n <= 300:\n",
    "    resto = n % 12\n",
    "    n += 1\n",
    "    if resto != 0:\n",
    "        continue\n",
    "    print(f'{n} es divisible por 12')"
   ]
  },
  {
   "attachments": {},
   "cell_type": "markdown",
   "metadata": {},
   "source": [
    "14) Utilizar la función **input()** que permite hacer ingresos por teclado, para encontrar números primos y dar la opción al usario de buscar el siguiente"
   ]
  },
  {
   "cell_type": "code",
   "execution_count": null,
   "metadata": {},
   "outputs": [],
   "source": []
  },
  {
   "attachments": {},
   "cell_type": "markdown",
   "metadata": {},
   "source": [
    "15) Crear un ciclo while que encuentre dentro del rango de 100 a 300 el primer número divisible por 3 y además múltiplo de 6"
   ]
  },
  {
   "cell_type": "code",
   "execution_count": 22,
   "metadata": {},
   "outputs": [
    {
     "name": "stdout",
     "output_type": "stream",
     "text": [
      "el numero es: 102\n"
     ]
    }
   ],
   "source": [
    "n = 100\n",
    "while (n <= 300):\n",
    "    if (n % 6 == 0):\n",
    "        print(f'el numero es: {n}')\n",
    "        break\n",
    "    n += 1"
   ]
  }
 ],
 "metadata": {
  "interpreter": {
   "hash": "c85384e4cb51c8b72350f3a8712cc8351fdc3955e32a27f9b60c6242ab125f01"
  },
  "kernelspec": {
   "display_name": "Python 3 (ipykernel)",
   "language": "python",
   "name": "python3"
  },
  "language_info": {
   "codemirror_mode": {
    "name": "ipython",
    "version": 3
   },
   "file_extension": ".py",
   "mimetype": "text/x-python",
   "name": "python",
   "nbconvert_exporter": "python",
   "pygments_lexer": "ipython3",
   "version": "3.11.3"
  }
 },
 "nbformat": 4,
 "nbformat_minor": 4
}
